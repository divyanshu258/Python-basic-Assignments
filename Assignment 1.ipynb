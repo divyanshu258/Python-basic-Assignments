{
  "nbformat": 4,
  "nbformat_minor": 0,
  "metadata": {
    "colab": {
      "provenance": []
    },
    "kernelspec": {
      "name": "python3",
      "display_name": "Python 3"
    },
    "language_info": {
      "name": "python"
    }
  },
  "cells": [
    {
      "cell_type": "code",
      "execution_count": null,
      "metadata": {
        "id": "67YaU_YYDtAB"
      },
      "outputs": [],
      "source": [
        "1. In the below elements which of them are values or an expression? eg:- values can be\n",
        "integer or string and expressions will be mathematical operators.\n",
        "*\n",
        "&#39;hello&#39;\n",
        "-87.8\n",
        "-\n",
        "/\n",
        "+\n",
        "6"
      ]
    },
    {
      "cell_type": "code",
      "source": [
        "Ans-  \n",
        "'hello' is a string value\n",
        "-87.8 is integer\n",
        "6 is integer\n",
        "-,+,/ are mathematical operators"
      ],
      "metadata": {
        "id": "4BN2BCwBDxdM"
      },
      "execution_count": null,
      "outputs": []
    },
    {
      "cell_type": "code",
      "source": [
        "2. What is the difference between string and variable?"
      ],
      "metadata": {
        "id": "tnqxdRjFDxmZ"
      },
      "execution_count": null,
      "outputs": []
    },
    {
      "cell_type": "code",
      "source": [
        "Ans-  string is a sequence of characters, such as \"hello\" or \"goodbye\". \n",
        "It is a constant value that cannot be changed once it is assigned.\n",
        "\n",
        " variable, on the other hand, is a named container that can hold a value, such as a string or a number. \n",
        "The value stored in a variable can be changed or updated"
      ],
      "metadata": {
        "id": "9bJEgrSADxpR"
      },
      "execution_count": null,
      "outputs": []
    },
    {
      "cell_type": "code",
      "source": [
        "3.Describe three different data types."
      ],
      "metadata": {
        "id": "QBlKqwzhDxsC"
      },
      "execution_count": null,
      "outputs": []
    },
    {
      "cell_type": "code",
      "source": [
        "three different data type are \n",
        "List - A list is a data type that stores a collection of items. The items in a list can be of any data type, such as numbers, strings, or other objects. \n",
        "Lists are often used to store and organize data in a structured way.\n",
        "L=[1,2,divyanshu,85.5]\n",
        "\n",
        "Tupple- A tuple is a data type that stores a collection of items, similar to a list.\n",
        " However, tuples are immutable, meaning that the items within a tuple cannot be modified once they are assigned.\n",
        " tupple=(1,2,6,divyanshu,85.4)\n",
        "\n",
        "dict =A dictionary is a data type that stores a collection of key-value pairs. \n",
        "The keys in a dictionary are unique and are used to access the corresponding values\n",
        "dict={'name': 'divyanshu','age':'75','hours':'25.5'}\n"
      ],
      "metadata": {
        "id": "X_oha8bHDxus"
      },
      "execution_count": null,
      "outputs": []
    },
    {
      "cell_type": "code",
      "source": [
        "4. What is an expression made up of? What do all expressions do?"
      ],
      "metadata": {
        "id": "xxt4lhUeDxxX"
      },
      "execution_count": null,
      "outputs": []
    },
    {
      "cell_type": "code",
      "source": [
        "Ans- An expression is made up of one or more operands and operators.\n",
        " Operands are the values or variables on which the operator operates, \n",
        " and the operator defines the operation that is performed on the operands.\n",
        "\n",
        "For example, in the expression 2 + 3, 2 and 3 are the operands and + is the operator.\n",
        "\n",
        "Expressions can include mathematical, logical, comparison, and other types of operators. \n",
        "Expressions can also include function calls, method calls, and array/list indexing. "
      ],
      "metadata": {
        "id": "ZMTzoXu9HVa7"
      },
      "execution_count": null,
      "outputs": []
    },
    {
      "cell_type": "code",
      "source": [
        "5. This assignment statements, like spam = 10. What is the difference between an\n",
        "expression and a statement?"
      ],
      "metadata": {
        "id": "VKI9FqPQHVfW"
      },
      "execution_count": null,
      "outputs": []
    },
    {
      "cell_type": "code",
      "source": [
        "Ans- An expression is a combination of values, variables, and operators that evaluates to a single value.\n",
        " Expressions can be used as input for other expressions, or as part of a larger statement.\n",
        "\n",
        "A statement, on the other hand, is a complete unit of code that performs a specific action or operation. \n",
        "A statement can include one or more expressions and can have side effects, such as modifying a variable or outputting data to the screen.\n",
        "\n",
        "Assignment statement like \"spam = 10\" is an example of a statement, it assigns a value of 10 to a variable named \"spam\". \n",
        "The right-hand side of the assignment operator (=) is an expression (10) which evaluates to a value and the left-hand side is a variable (spam) \n",
        "where the value is stored.\n",
        "\n",
        "difference between expression and statement-:\n",
        "As you can see, expressions are used to perform calculations and return a value, while statements are used to execute actions and \n",
        "control the flow of a program. \n",
        "Expressions can be used as part of statements, but statements cannot be used as part of an expressions.\n",
        "\n",
        "Examples of expressions:\n",
        "\n",
        "2 + 3\n",
        "\"hello\" + \"world\"\n",
        "x * y\n",
        "len(my_list)\n",
        "my_function(5)\n",
        "\n",
        "Examples of statements:\n",
        "\n",
        "spam = 10\n",
        "x = 2 + 3\n",
        "print(\"Hello, world!\")\n",
        "my_list.append(4)\n",
        "if x > 5: print(\"x is greater than 5\")\n"
      ],
      "metadata": {
        "id": "gThPSbwKHVlL"
      },
      "execution_count": null,
      "outputs": []
    },
    {
      "cell_type": "code",
      "source": [
        "6. After running the following code, what does the variable bacon contain?\n"
      ],
      "metadata": {
        "colab": {
          "base_uri": "https://localhost:8080/"
        },
        "id": "n_GmkeLcHVoL",
        "outputId": "d8224288-92df-436b-b4b2-41619d43693f"
      },
      "execution_count": 5,
      "outputs": [
        {
          "output_type": "stream",
          "name": "stdout",
          "text": [
            "Object `contain` not found.\n",
            "22\n"
          ]
        }
      ]
    },
    {
      "cell_type": "code",
      "source": [
        "Ans\n",
        "bacon = 22\n",
        "bacon + 1\n",
        "print (bacon)\n",
        "22  "
      ],
      "metadata": {
        "id": "Vb9j9THNHVtW"
      },
      "execution_count": null,
      "outputs": []
    },
    {
      "cell_type": "code",
      "source": [
        "7. What should the values of the following two terms be?\n",
        "'spam' + 'spamspam'\n",
        "'spam'*3  "
      ],
      "metadata": {
        "id": "VYNg2vAqHVyB"
      },
      "execution_count": null,
      "outputs": []
    },
    {
      "cell_type": "code",
      "source": [
        "\n",
        "Ans \n",
        "both output will be same\n",
        "values will be spamspamspam"
      ],
      "metadata": {
        "id": "Jcb_pWnIK2c-"
      },
      "execution_count": null,
      "outputs": []
    },
    {
      "cell_type": "code",
      "source": [
        "8. Why is eggs a valid variable name while 100 is invalid?"
      ],
      "metadata": {
        "id": "yqJwR_OPK2gz"
      },
      "execution_count": 9,
      "outputs": []
    },
    {
      "cell_type": "code",
      "source": [
        "Ans \n",
        "In most programming languages, variable names must start with a letter or an underscore, \n",
        "while numbers are not allowed as the first character.\n"
      ],
      "metadata": {
        "id": "4fYf8WTzK2mL"
      },
      "execution_count": null,
      "outputs": []
    },
    {
      "cell_type": "code",
      "source": [
        "9. What three functions can be used to get the integer, floating-point number, or string\n",
        "version of a value?"
      ],
      "metadata": {
        "id": "mPDB4qU_K2oz"
      },
      "execution_count": null,
      "outputs": []
    },
    {
      "cell_type": "code",
      "source": [
        "Ans\n",
        "For integer (int)\n",
        "For floating -point number (float)\n",
        "for string - (str)"
      ],
      "metadata": {
        "id": "BYjIlJBpK2tj"
      },
      "execution_count": null,
      "outputs": []
    },
    {
      "cell_type": "code",
      "source": [
        "10. Why does this expression cause an error? How can you fix it?\n",
        "'i have eaten'+99+'burritos'\n"
      ],
      "metadata": {
        "id": "8XUaru-3K2v-"
      },
      "execution_count": null,
      "outputs": []
    },
    {
      "cell_type": "code",
      "source": [
        "Ans- beacause 99 is int while other are str\n",
        "so \n",
        "'i have eaten'+str(99)+'burritos'\n",
        "this will work \n",
        "\n"
      ],
      "metadata": {
        "id": "d9w-IC87M5On"
      },
      "execution_count": null,
      "outputs": []
    },
    {
      "cell_type": "code",
      "source": [],
      "metadata": {
        "id": "5n_QrdlLM5W1"
      },
      "execution_count": null,
      "outputs": []
    },
    {
      "cell_type": "code",
      "source": [],
      "metadata": {
        "id": "BtDwIN9pM5ai"
      },
      "execution_count": null,
      "outputs": []
    },
    {
      "cell_type": "code",
      "source": [],
      "metadata": {
        "id": "aZ9Q7KoMM5gg"
      },
      "execution_count": null,
      "outputs": []
    }
  ]
}