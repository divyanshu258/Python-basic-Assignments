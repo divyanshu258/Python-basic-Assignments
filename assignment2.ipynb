{
  "nbformat": 4,
  "nbformat_minor": 0,
  "metadata": {
    "colab": {
      "provenance": []
    },
    "kernelspec": {
      "name": "python3",
      "display_name": "Python 3"
    },
    "language_info": {
      "name": "python"
    }
  },
  "cells": [
    {
      "cell_type": "code",
      "execution_count": null,
      "metadata": {
        "id": "KCzeXtlArSS4"
      },
      "outputs": [],
      "source": [
        "1.What are the two values of the Boolean data type? How do you write them?"
      ]
    },
    {
      "cell_type": "code",
      "source": [
        "Ans -\n",
        "Two values of the boolean data type are\n",
        "TRUE \n",
        "FALSE"
      ],
      "metadata": {
        "id": "X4W_JLK5rZyA"
      },
      "execution_count": null,
      "outputs": []
    },
    {
      "cell_type": "code",
      "source": [
        "2. What are the three different types of Boolean operators?"
      ],
      "metadata": {
        "id": "Rw61DfyXrZ3V"
      },
      "execution_count": null,
      "outputs": []
    },
    {
      "cell_type": "code",
      "source": [
        "Ans-\n",
        "The three different types of Boolean operators are:\n",
        "\n",
        "AND (&& or &) which returns true if both operands are true\n",
        "OR (|| or |) which returns true if at least one of the operands is true\n",
        "NOT (! or ~) which negates or inverts the value of a single operand."
      ],
      "metadata": {
        "id": "noRu6MrqrZ6T"
      },
      "execution_count": null,
      "outputs": []
    },
    {
      "cell_type": "code",
      "source": [
        "  3. Make a list of each Boolean operators truth tables (i.e. every possible combination of Boolean\n",
        "  values for the operator and what it evaluate ). "
      ],
      "metadata": {
        "id": "ngi4GGt6rZ-s"
      },
      "execution_count": null,
      "outputs": []
    },
    {
      "cell_type": "code",
      "source": [
        "Ans - For and\n",
        "\n",
        "a  b  a & b\n",
        "---------\n",
        "0  0    0\n",
        "0  1    0\n",
        "1  0    0\n",
        "1  1    1\n",
        "\n",
        "For or\n",
        "a b a or b\n",
        "0 0   0\n",
        "0 1   1\n",
        "1 0   1\n",
        "1 1   1\n",
        "\n",
        "For not\n",
        "a ~a\n",
        "0  1\n",
        "1  0\n"
      ],
      "metadata": {
        "id": "z_82V-n6raDZ"
      },
      "execution_count": null,
      "outputs": []
    },
    {
      "cell_type": "code",
      "source": [
        "4. What are the values of the following expressions?\n",
        "(5 >4) and (3 == 5)\n",
        "not (5>4)\n",
        "(5 > 4) or (3 == 5)\n",
        "not ((5 >4) or (3 == 5))\n",
        "(True and True) and (True == False)\n",
        "(not False) or (not True)"
      ],
      "metadata": {
        "id": "1BUKCjwVraGo"
      },
      "execution_count": null,
      "outputs": []
    },
    {
      "cell_type": "code",
      "source": [
        "(5 >4) and (3 == 5) - Flase\n",
        "not (5>4) - False\n",
        "(5 > 4) or (3 == 5) - True\n",
        "not ((5 >4) or (3 == 5)) - Flase\n",
        "(True and True) and (True == False) - false\n",
        "(not False) or (not True)- true"
      ],
      "metadata": {
        "id": "0pFHkZN_raJL"
      },
      "execution_count": null,
      "outputs": []
    },
    {
      "cell_type": "code",
      "source": [
        "5. What are the six comparison operators?"
      ],
      "metadata": {
        "id": "3sediKgpraLc"
      },
      "execution_count": null,
      "outputs": []
    },
    {
      "cell_type": "code",
      "source": [
        "ans \n",
        "== (equal to)\n",
        "!= (not equal to)\n",
        "< (less than)\n",
        "> (greater than)\n",
        "<= (less than or equal to)\n",
        ">= (greater than or equal to)"
      ],
      "metadata": {
        "id": "IelRTaip3ncO"
      },
      "execution_count": null,
      "outputs": []
    },
    {
      "cell_type": "code",
      "source": [
        "6. How do you tell the difference between the equal to and assignment operators?Describe a\n",
        "condition and when you would use one."
      ],
      "metadata": {
        "id": "VxglkRum3nez"
      },
      "execution_count": null,
      "outputs": []
    },
    {
      "cell_type": "code",
      "source": [
        "Ans \n",
        "Assignment operators are use (=)\n",
        "equal operator (==)\n",
        "a=10\n",
        "if \n",
        "a==10\n",
        "print (a)\n",
        "else\n",
        "print (\"wrong\");"
      ],
      "metadata": {
        "id": "fBE0y1fb4H8C"
      },
      "execution_count": null,
      "outputs": []
    },
    {
      "cell_type": "code",
      "source": [
        "7. Identify the three blocks in this code:\n",
        "ans - \n",
        "1- ham\n",
        "2- spam\n",
        "3-spam\n"
      ],
      "metadata": {
        "id": "qZA44CbX4H-y"
      },
      "execution_count": null,
      "outputs": []
    },
    {
      "cell_type": "code",
      "source": [],
      "metadata": {
        "id": "nW3JQ3pF4IDu"
      },
      "execution_count": null,
      "outputs": []
    },
    {
      "cell_type": "code",
      "source": [],
      "metadata": {
        "id": "RgsHY7If4IGk"
      },
      "execution_count": null,
      "outputs": []
    },
    {
      "cell_type": "code",
      "source": [],
      "metadata": {
        "id": "Kb30kXVx4IJu"
      },
      "execution_count": null,
      "outputs": []
    },
    {
      "cell_type": "code",
      "source": [],
      "metadata": {
        "id": "2vzBMCkB4IME"
      },
      "execution_count": null,
      "outputs": []
    },
    {
      "cell_type": "code",
      "source": [],
      "metadata": {
        "id": "nyqMdkWM4IO8"
      },
      "execution_count": null,
      "outputs": []
    },
    {
      "cell_type": "code",
      "source": [],
      "metadata": {
        "id": "jepkNwac4IR8"
      },
      "execution_count": null,
      "outputs": []
    },
    {
      "cell_type": "code",
      "source": [],
      "metadata": {
        "id": "bpGe3R9e4IUd"
      },
      "execution_count": null,
      "outputs": []
    }
  ]
}